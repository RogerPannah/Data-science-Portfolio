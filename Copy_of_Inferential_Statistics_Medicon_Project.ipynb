{
  "nbformat": 4,
  "nbformat_minor": 0,
  "metadata": {
    "colab": {
      "provenance": [],
      "authorship_tag": "ABX9TyP7a779OHFsvOBYq5xWkEj1",
      "include_colab_link": true
    },
    "kernelspec": {
      "name": "python3",
      "display_name": "Python 3"
    },
    "language_info": {
      "name": "python"
    }
  },
  "cells": [
    {
      "cell_type": "markdown",
      "metadata": {
        "id": "view-in-github",
        "colab_type": "text"
      },
      "source": [
        "<a href=\"https://colab.research.google.com/github/RogerPannah/Data-science-Portfolio/blob/main/Copy_of_Inferential_Statistics_Medicon_Project.ipynb\" target=\"_parent\"><img src=\"https://colab.research.google.com/assets/colab-badge.svg\" alt=\"Open In Colab\"/></a>"
      ]
    },
    {
      "cell_type": "markdown",
      "source": [
        "![](https://cdn.pixabay.com/photo/2021/04/14/15/45/test-6178726_960_720.jpg)\n",
        "\n",
        "<center><font size=5><b> Medicon Case Study</b></font></center>"
      ],
      "metadata": {
        "id": "54MzYQrQLmDw"
      }
    },
    {
      "cell_type": "markdown",
      "source": [
        "#Medicon\n",
        "##Problem Statement\n",
        "Business Context\n",
        "\n",
        "Medicon is a leading pharmaceutical company and one of the world's largest vaccine manufacturers. During the last quarter, the company clinically tested five batches of the Covid-19 vaccine, and approximately 2,00,000 doses of this vaccine have already been administered to people. The sixth batch (40,000 doses) has now been manufactured and must be tested for quality assurance (whether the dose will be able to do a satisfactory job or not) as well as their time of effect (time taken for the dose to completely cure COVID). From the analysis of the previous batches, it is found that a dose is two times more likely to produce a satisfactory result as compared to an unsatisfactory result.\n",
        "\n",
        "[Note: This is not a clinical trial, the vaccine has already cleared clinical trials. This batch test is to ensure the quality and effectiveness of the sixth batch]\n"
      ],
      "metadata": {
        "id": "VUpxTqaLmJNg"
      }
    },
    {
      "cell_type": "markdown",
      "source": [
        "\n",
        "##Objective\n",
        "\n",
        "By analyzing random samples collected from the batch, the company plans to infer the quality (whether a dose will do a satisfactory job or not) and time of effect of this (sixth) batch. As a Data Scientist in Medicon's Quality Assurance team, you've been tasked with inspecting the batch's quality. The objective has been sub-divided further into the following tasks:\n",
        "\n",
        "###Task 1\n",
        "The Quality Assurance team has randomly selected 10 volunteers who were ready for the trial of the new batch and has given one dose to each volunteer. They want to understand the chances of doses being unsatisfactory by plotting the probability distribution of the number of unsatisfactory doses. They also want to find the probability that\n",
        "\n",
        "A) exactly 3 doses out of 10 will not do a satisfactory job\n",
        "\n",
        "B) at most 3 doses out of 10 will not do a satisfactory job\n",
        "\n",
        "C) more than 8 doses out of 10 will do a satisfactory job\n",
        "\n",
        "###Task 2\n",
        "The New York City administration wants to buy 20 doses for healthcare workers who tested positive for COVID. They have contacted the company and requested 20 doses. The Quality Assurance team want to find the probability that\n",
        "\n",
        "A) at least 11 doses will not do a satisfactory job out of the 20 doses\n",
        "\n",
        "B) at most 5 doses out of the 20 will not do a satisfactory job\n",
        "\n",
        "C) at least 13 doses out of the 20 will do a satisfactory job\n",
        "\n",
        "###Task 3\n",
        "The Quality Assurance team wants to analyze the time of effect for doses. So, they have randomly selected 50 volunteers with the help of the city administration and given one dose to each volunteer. The times of effect of these 50 doses are stored in the 'doses.csv' file. Based on the sample data, they want to\n",
        "\n",
        "A) find the probability that the time of effect of a dose is less than 11.5 hours\n",
        "\n",
        "B) find the probability that the time of effect of a dose is more than 10 hours\n",
        "\n",
        "C) calculate the 90th percentile of time of effect for the doses, which will give the value below which lies the time of effect of 90% of the doses\n",
        "\n",
        "Note: Here, satisfactory job means that the dose is able to completely cure covid and it does not have any side effects.\n"
      ],
      "metadata": {
        "id": "1sdFTnwknT3X"
      }
    },
    {
      "cell_type": "markdown",
      "source": [
        "### **Solution Approach**"
      ],
      "metadata": {
        "id": "-lWcr99WOKRy"
      }
    },
    {
      "cell_type": "markdown",
      "source": [
        "Let $p$ be the probability that a dose will not do a satisfactory job. It is provided that a dose is two times more likely to produce a satisfactory result as compared to an unsatisfactory result. So, the probability that a dose will do a satisfactory job is $2p$.\n",
        "\n",
        "According to the rules of probability, the total probability is always 1\n",
        "\n",
        "$p + 2p = 1$\n",
        "\n",
        "$=> 3p = 1$\n",
        "\n",
        "$=> p = 1/3$\n",
        "\n",
        "$=> p = 0.33$\n",
        "\n",
        "Hence, the probability of success for each trial is 0.33.\n",
        "\n",
        "**Note**: In this case, success denotes the event that a dose will not do a satisfactory job."
      ],
      "metadata": {
        "id": "bOhBAOXYN-kQ"
      }
    },
    {
      "cell_type": "code",
      "source": [],
      "metadata": {
        "id": "YpVcoVzVnHIt"
      },
      "execution_count": null,
      "outputs": []
    },
    {
      "cell_type": "code",
      "source": [
        "\n",
        "import pandas as pd\n",
        "import numpy as np\n",
        "import matplotlib.pyplot as plt\n",
        "import seaborn as sns\n",
        "%matplotlib inline\n",
        "import scipy.stats as stats"
      ],
      "metadata": {
        "id": "W6zCBzINOoT7"
      },
      "execution_count": null,
      "outputs": []
    },
    {
      "cell_type": "code",
      "source": [],
      "metadata": {
        "id": "nbTz7YerPFY2"
      },
      "execution_count": null,
      "outputs": []
    },
    {
      "cell_type": "markdown",
      "source": [
        "##**Task 1**"
      ],
      "metadata": {
        "id": "rENOLel3QMc9"
      }
    },
    {
      "cell_type": "markdown",
      "source": [
        "**The quality assurance team has randomly selected 10 volunteers who were ready for the trial of the new batch and given one dose to each volunteer.**\n",
        "\n",
        "In the above situation,\n",
        "\n",
        "*  There are only two possible outcomes (success or failure) for each trial – A dose will do a satisfactory job or not (yes or no).\n",
        "\n",
        "* Number of trials ($n$) is fixed and finite - A  sample of size 10 is taken. Each dose in the sample represents a trial.\n",
        "\n",
        "* Each trial is independent of the other trials - It is reasonable to assume that the doses given to each person are independent of each other.\n",
        "\n",
        "* The probability of success ($p$) is the same for each trial - The probability of success (a dose will not do a satisfactory job) for each trial is calculated to be 0.33\n",
        "\n",
        "Hence, the number of unsatisfactory doses follows a Binomial distribution with the parameters $n = 10$ and $p = 0.33$"
      ],
      "metadata": {
        "id": "HW-lDP_UQc5A"
      }
    },
    {
      "cell_type": "code",
      "source": [
        "# declare the parameters n and p of the binomial distribution\n",
        "n = 10\n",
        "p = 0.33"
      ],
      "metadata": {
        "id": "h0m1iat_QUoQ"
      },
      "execution_count": null,
      "outputs": []
    },
    {
      "cell_type": "code",
      "source": [
        "# store all possible number of unsatisfactory doses in a numpy array\n",
        "k=np.arange(0,11)\n",
        "k"
      ],
      "metadata": {
        "colab": {
          "base_uri": "https://localhost:8080/"
        },
        "id": "OQb6vorWRV8J",
        "outputId": "41b6a82e-6871-4eaf-af62-77f96bf47762"
      },
      "execution_count": null,
      "outputs": [
        {
          "output_type": "execute_result",
          "data": {
            "text/plain": [
              "array([ 0,  1,  2,  3,  4,  5,  6,  7,  8,  9, 10])"
            ]
          },
          "metadata": {},
          "execution_count": 3
        }
      ]
    },
    {
      "cell_type": "code",
      "source": [
        "from scipy.stats import binom\n",
        "\n",
        "binomial_prob = binom.pmf(k = k,n = n, p = p)"
      ],
      "metadata": {
        "id": "xqf4JO3mRv4r"
      },
      "execution_count": null,
      "outputs": []
    },
    {
      "cell_type": "code",
      "source": [
        "binomial_prob"
      ],
      "metadata": {
        "colab": {
          "base_uri": "https://localhost:8080/"
        },
        "id": "h3RypXj2R9fh",
        "outputId": "7067395c-3818-46a7-a47b-026591817e7a"
      },
      "execution_count": null,
      "outputs": [
        {
          "output_type": "execute_result",
          "data": {
            "text/plain": [
              "array([1.82283780e-02, 8.97815635e-02, 1.98993465e-01, 2.61364552e-01,\n",
              "       2.25280640e-01, 1.33150945e-01, 5.46515074e-02, 1.53816609e-02,\n",
              "       2.84101573e-03, 3.10956945e-04, 1.53157899e-05])"
            ]
          },
          "metadata": {},
          "execution_count": 5
        }
      ]
    },
    {
      "cell_type": "code",
      "source": [],
      "metadata": {
        "id": "34JHbzQsR-DX"
      },
      "execution_count": null,
      "outputs": []
    },
    {
      "cell_type": "markdown",
      "source": [
        "###Probability distribution of the number of unsatisfactory doses."
      ],
      "metadata": {
        "id": "qKpCUEeVSFzp"
      }
    },
    {
      "cell_type": "code",
      "source": [
        "# probability distribution plot\n",
        "plt.bar(k,binomial_prob)\n",
        "plt.title('n=%i , p=%.2f' % (n,p), fontsize=15)\n",
        "plt.xlabel('Number of unsatisfactory doses')\n",
        "plt.ylabel('Probability')\n",
        "plt.show()"
      ],
      "metadata": {
        "colab": {
          "base_uri": "https://localhost:8080/",
          "height": 474
        },
        "id": "X3MJW9UGSL-o",
        "outputId": "374992b4-a6b6-4b08-976e-ccaa42bebec2"
      },
      "execution_count": null,
      "outputs": [
        {
          "output_type": "display_data",
          "data": {
            "text/plain": [
              "<Figure size 640x480 with 1 Axes>"
            ],
            "image/png": "[encoded data removed]"
          },
          "metadata": {}
        }
      ]
    },
    {
      "cell_type": "markdown",
      "source": [
        "The above plot visualizes the mass probabilities for the different number of unsatisfactory doses. We can observe that:\n",
        "- The mass probability that exactly 3 doses will not do a satisfactory job is comparatively higher than all the other mass probabilities.\n",
        "- The chances are very low that 9 or 10 doses are unsatisfactory."
      ],
      "metadata": {
        "id": "ANW4jms6SziB"
      }
    },
    {
      "cell_type": "markdown",
      "source": [
        "### **A) Let us find the probability that exactly 3 doses out of 10 will not do a satisfactory job.**"
      ],
      "metadata": {
        "id": "wyyMUAtpTChB"
      }
    },
    {
      "cell_type": "markdown",
      "source": [
        "Suppose $X$ is the random variable that denotes the number of unsuccessful doses. We are to calculate the probability $P(X=3)$."
      ],
      "metadata": {
        "id": "ySEloWi3TLD2"
      }
    },
    {
      "cell_type": "code",
      "source": [
        "# Probability distribution to better visualize the calculations\n",
        "barl=plt.bar(k,binomial_prob)\n",
        "plt.title('n=%i , p=%.2f' % (n,p), fontsize=15)\n",
        "plt.xlabel('Number of unsatisfactory doses')\n",
        "plt.ylabel('Probability')\n",
        "barl[3].set_color('r')\n",
        "plt.show()"
      ],
      "metadata": {
        "colab": {
          "base_uri": "https://localhost:8080/",
          "height": 474
        },
        "id": "ImdrUc93TDqq",
        "outputId": "964a125e-b6d2-4128-e0d3-6065a8ae6a4b"
      },
      "execution_count": null,
      "outputs": [
        {
          "output_type": "display_data",
          "data": {
            "text/plain": [
              "<Figure size 640x480 with 1 Axes>"
            ],
            "image/png": "[encoded data removed]"
          },
          "metadata": {}
        }
      ]
    },
    {
      "cell_type": "markdown",
      "source": [
        "* In the above graph, the red bar represents $P(X=3)$\n",
        "\n",
        "* Let's calculate the probability that out of 10 randomly selected doses, exactly 3 will not do a satisfactory job.\n"
      ],
      "metadata": {
        "id": "gS3egWx2TxqI"
      }
    },
    {
      "cell_type": "code",
      "source": [
        "# calculate P(X=3)\n",
        "binom.pmf(k=3,n=n,p=p)"
      ],
      "metadata": {
        "colab": {
          "base_uri": "https://localhost:8080/"
        },
        "id": "-vg6EvLGTMHX",
        "outputId": "26010305-6843-4c3f-93d1-7ce2ccae6bdc"
      },
      "execution_count": null,
      "outputs": [
        {
          "output_type": "execute_result",
          "data": {
            "text/plain": [
              "0.2613645515525908"
            ]
          },
          "metadata": {},
          "execution_count": 8
        }
      ]
    },
    {
      "cell_type": "markdown",
      "source": [
        "* The probability that exactly 3 doses out of 10 will not do a satisfactory job is 26.14%."
      ],
      "metadata": {
        "id": "d7jqIIdCUQk0"
      }
    },
    {
      "cell_type": "markdown",
      "source": [
        "### **B) Let us find the probability that at most 3 doses out of 10 will not do a satisfactory job.**"
      ],
      "metadata": {
        "id": "JW5IKgRNUio7"
      }
    },
    {
      "cell_type": "code",
      "source": [
        "# plotting the probability distribution to better visualize the calculations.\n",
        "# probability 𝑃(𝑋<=3)\n",
        "barl=plt.bar(k,binomial_prob)\n",
        "plt.title('n=%i , p=%.2f' % (n,p), fontsize=15)\n",
        "plt.xlabel('Number of unsatisfactory doses')\n",
        "plt.ylabel('Probability')\n",
        "for i in range(0,4):\n",
        "    barl[i].set_color('r')\n",
        "plt.show()"
      ],
      "metadata": {
        "colab": {
          "base_uri": "https://localhost:8080/",
          "height": 474
        },
        "id": "re_Hmt9cUTNj",
        "outputId": "9e39292e-56cf-4efc-a9c4-ef3139ef6503"
      },
      "execution_count": null,
      "outputs": [
        {
          "output_type": "display_data",
          "data": {
            "text/plain": [
              "<Figure size 640x480 with 1 Axes>"
            ],
            "image/png": "[encoded data removed]"
          },
          "metadata": {}
        }
      ]
    },
    {
      "cell_type": "markdown",
      "source": [
        "The red region represents $P(X<=3)$.\n",
        "\n",
        "* calculating the probability that out of 10 randomly selected doses, at most 3 will not do a satisfactory job.\n"
      ],
      "metadata": {
        "id": "jy00QuRJVTH5"
      }
    },
    {
      "cell_type": "code",
      "source": [
        " #calculating P(x<=3)\n",
        "prob_atmost3 = binom.cdf(k = 3 ,n = n, p = p)\n",
        "print(prob_atmost3)"
      ],
      "metadata": {
        "colab": {
          "base_uri": "https://localhost:8080/"
        },
        "id": "EOaCwkUWVlYu",
        "outputId": "7d305a24-29e9-46c2-a83c-7527d5e4ba7d"
      },
      "execution_count": null,
      "outputs": [
        {
          "output_type": "stream",
          "name": "stdout",
          "text": [
            "0.5683679584925142\n"
          ]
        }
      ]
    },
    {
      "cell_type": "markdown",
      "source": [
        "*  56.84% is the probability that at most 3 doses out of 10 will not do a satisfactory job."
      ],
      "metadata": {
        "id": "vNp-mFLlV3NH"
      }
    },
    {
      "cell_type": "markdown",
      "source": [
        "### **C) Let us find the probability that more than 8 doses out of 10 will do a satisfactory job.**"
      ],
      "metadata": {
        "id": "NH0kR_izWC2T"
      }
    },
    {
      "cell_type": "markdown",
      "source": [
        "* If the number of doses that do a satisfactory job is more than 8, then the number of doses that do an unsatisfactory job are less than 2, i.e., the number of doses that do an unsatisfactory job are at most 1.\n",
        "\n",
        "* The probability that at most 1 dose does an unsatisfactory job, $P(X <= 1)$"
      ],
      "metadata": {
        "id": "hR_Xb-sCWT01"
      }
    },
    {
      "cell_type": "code",
      "source": [
        "barl=plt.bar(k,binomial_prob)\n",
        "plt.title('n=%i , p=%.2f' % (n,p), fontsize=15)\n",
        "plt.xlabel('Number of unsatisfactory doses')\n",
        "plt.ylabel('Probability')\n",
        "for i in range(2):\n",
        "    barl[i].set_color('r')\n",
        "plt.show()"
      ],
      "metadata": {
        "colab": {
          "base_uri": "https://localhost:8080/",
          "height": 474
        },
        "id": "wsvuGeQUV9sa",
        "outputId": "59d0f559-b560-4b6c-e766-03a2869c0ef5"
      },
      "execution_count": null,
      "outputs": [
        {
          "output_type": "display_data",
          "data": {
            "text/plain": [
              "<Figure size 640x480 with 1 Axes>"
            ],
            "image/png": "[encoded data removed]"
          },
          "metadata": {}
        }
      ]
    },
    {
      "cell_type": "markdown",
      "source": [
        "* In the above graph, the red region represents $P(X<=1)$.\n",
        "\n",
        "* Calculating the probability that out of 10 randomly selected doses, more than 8 will do a satisfactory job."
      ],
      "metadata": {
        "id": "-ImZaCFjXAv7"
      }
    },
    {
      "cell_type": "code",
      "source": [
        "# calculating the probability P(X<=1)\n",
        "prob_atmost1 = binom.cdf(k=1, n=n, p=p)\n",
        "print(prob_atmost1)"
      ],
      "metadata": {
        "colab": {
          "base_uri": "https://localhost:8080/"
        },
        "id": "Bug3broDWvIE",
        "outputId": "f691f679-1bc9-4284-960b-232cc0b9054f"
      },
      "execution_count": null,
      "outputs": [
        {
          "output_type": "stream",
          "name": "stdout",
          "text": [
            "0.10800994155329086\n"
          ]
        }
      ]
    },
    {
      "cell_type": "markdown",
      "source": [
        "*  10.80% is the probability that more than 8 doses out of 10 will do a satisfactory job."
      ],
      "metadata": {
        "id": "4NPWFe5NXnST"
      }
    },
    {
      "cell_type": "markdown",
      "source": [
        "## **Task 2**"
      ],
      "metadata": {
        "id": "qAZCWwz8Xt9e"
      }
    },
    {
      "cell_type": "markdown",
      "source": [
        "**The New York City administration wants to buy 20 doses for healthcare workers who tested positive for COVID. They have contacted the company and requested 20 doses. The Quality Assurance team want to find the probability.**\n",
        "\n",
        "In the above situation, the number of unsatisfactory doses follows a Binomial distribution with the parameters $n = 20$ and $p = 0.33$\n",
        "\n",
        "Suppose X is the random variable that denotes the number of unsuccessful doses."
      ],
      "metadata": {
        "id": "w4eWGoe6X6YC"
      }
    },
    {
      "cell_type": "code",
      "source": [
        "n = 20\n",
        "p = 0.33\n",
        "k=np.arange(0,21)\n",
        "k"
      ],
      "metadata": {
        "colab": {
          "base_uri": "https://localhost:8080/"
        },
        "id": "0OdXBg7BXn2k",
        "outputId": "b25d4b4f-973e-4075-e609-c1fc088c91ac"
      },
      "execution_count": null,
      "outputs": [
        {
          "output_type": "execute_result",
          "data": {
            "text/plain": [
              "array([ 0,  1,  2,  3,  4,  5,  6,  7,  8,  9, 10, 11, 12, 13, 14, 15, 16,\n",
              "       17, 18, 19, 20])"
            ]
          },
          "metadata": {},
          "execution_count": 14
        }
      ]
    },
    {
      "cell_type": "code",
      "source": [
        "from scipy.stats import binom\n",
        "binomial_prob = binom.pmf(k = k,n = n, p = p)"
      ],
      "metadata": {
        "id": "vWbCeIMzXvWl"
      },
      "execution_count": null,
      "outputs": []
    },
    {
      "cell_type": "markdown",
      "source": [
        "### **A) Find the probability that at least 11 doses will not do a satisfactory job out of the 20 doses.**"
      ],
      "metadata": {
        "id": "7q6EvyyKYTju"
      }
    },
    {
      "cell_type": "code",
      "source": [
        "# plotting the probability distribution to better visualize the calculations.\n",
        "barl=plt.bar(k,binomial_prob)\n",
        "plt.title('n=%i , p=%.2f' % (n,p), fontsize=15)\n",
        "plt.xlabel('Number of unsatisfactory doses')\n",
        "plt.ylabel('Probability')\n",
        "for i in range(11,21):\n",
        "    barl[i].set_color('r')\n",
        "plt.show()"
      ],
      "metadata": {
        "colab": {
          "base_uri": "https://localhost:8080/",
          "height": 474
        },
        "id": "FM02byW_YUB-",
        "outputId": "da2bfb41-0840-4428-9a91-daea75b112d6"
      },
      "execution_count": null,
      "outputs": [
        {
          "output_type": "display_data",
          "data": {
            "text/plain": [
              "<Figure size 640x480 with 1 Axes>"
            ],
            "image/png": "[encoded data removed]"
          },
          "metadata": {}
        }
      ]
    },
    {
      "cell_type": "markdown",
      "source": [
        "# In the above graph, the red region represents $P(X>=11)$. We can simplify the computation as follows:\n",
        "\n",
        "$P(X>=11)$\n",
        "\n",
        "$= 1 - P(X<11)$\n",
        "\n",
        "$= 1 - P(X<=10)$"
      ],
      "metadata": {
        "id": "Zu1DcAu9YzR5"
      }
    },
    {
      "cell_type": "code",
      "source": [
        "# calculating P(x>=11)\n",
        "prob_atleast11 = 1 - binom.cdf(k = 10, n = n, p = p)\n",
        "print(prob_atleast11)"
      ],
      "metadata": {
        "colab": {
          "base_uri": "https://localhost:8080/"
        },
        "id": "HA36I9AoYz6Y",
        "outputId": "6c8defed-227c-4d5a-d42f-1a62251cd59e"
      },
      "execution_count": null,
      "outputs": [
        {
          "output_type": "stream",
          "name": "stdout",
          "text": [
            "0.03499740152648401\n"
          ]
        }
      ]
    },
    {
      "cell_type": "markdown",
      "source": [
        "* There is 3.5 % chance that at least 11 out of 20 doses will not do a satisfactory job"
      ],
      "metadata": {
        "id": "jUZh8f5UZB30"
      }
    },
    {
      "cell_type": "markdown",
      "source": [
        "### **B) Find the probability that at most 5 doses out of the 20 will not do a satisfactory job.**"
      ],
      "metadata": {
        "id": "wkwdQL_0ZG4z"
      }
    },
    {
      "cell_type": "code",
      "source": [
        "#calculating the probability P(X<=5).\n",
        "barl=plt.bar(k,binomial_prob)\n",
        "plt.title('n=%i , p=%.2f' % (n,p), fontsize=15)\n",
        "plt.xlabel('Number of unsatisfactory doses')\n",
        "plt.ylabel('Probability')\n",
        "for i in range(0,6):\n",
        "    barl[i].set_color('r')\n",
        "plt.show()"
      ],
      "metadata": {
        "colab": {
          "base_uri": "https://localhost:8080/",
          "height": 474
        },
        "id": "qn2A0APhZClK",
        "outputId": "7c3972e0-051b-4d71-a6b0-7b19b6549608"
      },
      "execution_count": null,
      "outputs": [
        {
          "output_type": "display_data",
          "data": {
            "text/plain": [
              "<Figure size 640x480 with 1 Axes>"
            ],
            "image/png": "[encoded data removed]"
          },
          "metadata": {}
        }
      ]
    },
    {
      "cell_type": "markdown",
      "source": [
        "* In the above graph, the red region represents $P(X<=5)$.\n",
        "\n",
        "* Calculating the probability that out of 20 randomly selected doses, at most 5 will not do a satisfactory job."
      ],
      "metadata": {
        "id": "zrsKuflcZz8l"
      }
    },
    {
      "cell_type": "code",
      "source": [
        "# calculating the probability P(X<=5)\n",
        "prob_atmost5 = binom.cdf(k=5, n=n, p=p)\n",
        "print(prob_atmost5)"
      ],
      "metadata": {
        "colab": {
          "base_uri": "https://localhost:8080/"
        },
        "id": "Pu4w7CwhZ0XW",
        "outputId": "f65a6123-d09a-4582-908d-49ea66434e33"
      },
      "execution_count": null,
      "outputs": [
        {
          "output_type": "stream",
          "name": "stdout",
          "text": [
            "0.30825005639386527\n"
          ]
        }
      ]
    },
    {
      "cell_type": "markdown",
      "source": [
        "*  30.82% is the probability that at most 5 doses out of 20 will not do a satisfactory job."
      ],
      "metadata": {
        "id": "1CS2Qq9oaI0w"
      }
    },
    {
      "cell_type": "markdown",
      "source": [
        "### **C) Calculate the probability that at least 13 doses out of the 20 will do a satisfactory job**"
      ],
      "metadata": {
        "id": "iS7vZ7LTaOlq"
      }
    },
    {
      "cell_type": "markdown",
      "source": [
        "* If the number of doses that do a satisfactory job at least 13, then the number of doses that do an unsatisfactory job are at most 7, i.e., the number of doses that do an unsatisfactory job are less than or equal to 7.\n",
        "\n",
        "* Computing the probability $P(X <= 7)$"
      ],
      "metadata": {
        "id": "OQXfxFCPaZnw"
      }
    },
    {
      "cell_type": "code",
      "source": [
        "# the probability distribution to better visualize the calculations.\n",
        "barl=plt.bar(k,binomial_prob)\n",
        "plt.title('Binomial: n=%i , p=%.2f' % (n,p), fontsize=15)\n",
        "plt.xlabel('Number of unsatisfactory doses')\n",
        "plt.ylabel('Probability')\n",
        "for i in range(0,8):\n",
        "    barl[i].set_color('r')\n",
        "plt.show()"
      ],
      "metadata": {
        "colab": {
          "base_uri": "https://localhost:8080/",
          "height": 474
        },
        "id": "074r-6HuaJ0E",
        "outputId": "32040022-75e7-488f-ce42-33fc45bc9cb1"
      },
      "execution_count": null,
      "outputs": [
        {
          "output_type": "display_data",
          "data": {
            "text/plain": [
              "<Figure size 640x480 with 1 Axes>"
            ],
            "image/png": "[encoded data removed]"
          },
          "metadata": {}
        }
      ]
    },
    {
      "cell_type": "markdown",
      "source": [
        "* In the above graph, the red region represents $P(X<=7)$.\n"
      ],
      "metadata": {
        "id": "CLbvHufga0ue"
      }
    },
    {
      "cell_type": "code",
      "source": [
        "#Calculating the probability that out of 20 randomly selected doses, more than 13 will do a satisfactory job.\n",
        "# calculating the probability P(X<=7)\n",
        "prob_atmost6 = binom.cdf(k=7, n=n, p=p)\n",
        "print(prob_atmost6)"
      ],
      "metadata": {
        "colab": {
          "base_uri": "https://localhost:8080/"
        },
        "id": "KRMjLrYza4_4",
        "outputId": "b2193ac5-1165-4db6-ca2e-b33b3abac550"
      },
      "execution_count": null,
      "outputs": [
        {
          "output_type": "stream",
          "name": "stdout",
          "text": [
            "0.6732488959678964\n"
          ]
        }
      ]
    },
    {
      "cell_type": "markdown",
      "source": [
        "*  67.32% is the probability that at least 13 doses out of 20 will do a satisfactory job."
      ],
      "metadata": {
        "id": "sXqEI0ZqbEYx"
      }
    },
    {
      "cell_type": "code",
      "source": [
        "from google.colab import drive\n",
        "drive.mount('/content/drive')\n",
        "drug = pd.read_csv('/content/drive/MyDrive/Python_Course/doses.csv')\n",
        "drug.head()"
      ],
      "metadata": {
        "colab": {
          "base_uri": "https://localhost:8080/",
          "height": 224
        },
        "id": "KuIwea0bbGLu",
        "outputId": "2e170028-f227-408c-94f3-a2be44d9f438"
      },
      "execution_count": null,
      "outputs": [
        {
          "output_type": "stream",
          "name": "stdout",
          "text": [
            "Drive already mounted at /content/drive; to attempt to forcibly remount, call drive.mount(\"/content/drive\", force_remount=True).\n"
          ]
        },
        {
          "output_type": "execute_result",
          "data": {
            "text/plain": [
              "   drug_serial_number  time_of_effect\n",
              "0                 672             5.8\n",
              "1                 895            17.3\n",
              "2                 518            16.7\n",
              "3                 448            13.1\n",
              "4                 402            13.6"
            ],
            "text/html": [
              "\n",
              "  <div id=\"df-028f9b2e-b8d8-4d92-9a36-e75b155f5d52\" class=\"colab-df-container\">\n",
              "    <div>\n",
              "<style scoped>\n",
              "    .dataframe tbody tr th:only-of-type {\n",
              "        vertical-align: middle;\n",
              "    }\n",
              "\n",
              "    .dataframe tbody tr th {\n",
              "        vertical-align: top;\n",
              "    }\n",
              "\n",
              "    .dataframe thead th {\n",
              "        text-align: right;\n",
              "    }\n",
              "</style>\n",
              "<table border=\"1\" class=\"dataframe\">\n",
              "  <thead>\n",
              "    <tr style=\"text-align: right;\">\n",
              "      <th></th>\n",
              "      <th>drug_serial_number</th>\n",
              "      <th>time_of_effect</th>\n",
              "    </tr>\n",
              "  </thead>\n",
              "  <tbody>\n",
              "    <tr>\n",
              "      <th>0</th>\n",
              "      <td>672</td>\n",
              "      <td>5.8</td>\n",
              "    </tr>\n",
              "    <tr>\n",
              "      <th>1</th>\n",
              "      <td>895</td>\n",
              "      <td>17.3</td>\n",
              "    </tr>\n",
              "    <tr>\n",
              "      <th>2</th>\n",
              "      <td>518</td>\n",
              "      <td>16.7</td>\n",
              "    </tr>\n",
              "    <tr>\n",
              "      <th>3</th>\n",
              "      <td>448</td>\n",
              "      <td>13.1</td>\n",
              "    </tr>\n",
              "    <tr>\n",
              "      <th>4</th>\n",
              "      <td>402</td>\n",
              "      <td>13.6</td>\n",
              "    </tr>\n",
              "  </tbody>\n",
              "</table>\n",
              "</div>\n",
              "    <div class=\"colab-df-buttons\">\n",
              "\n",
              "  <div class=\"colab-df-container\">\n",
              "    <button class=\"colab-df-convert\" onclick=\"convertToInteractive('df-028f9b2e-b8d8-4d92-9a36-e75b155f5d52')\"\n",
              "            title=\"Convert this dataframe to an interactive table.\"\n",
              "            style=\"display:none;\">\n",
              "\n",
              "  <svg xmlns=\"http://www.w3.org/2000/svg\" height=\"24px\" viewBox=\"0 -960 960 960\">\n",
              "    <path d=\"M120-120v-720h720v720H120Zm60-500h600v-160H180v160Zm220 220h160v-160H400v160Zm0 220h160v-160H400v160ZM180-400h160v-160H180v160Zm440 0h160v-160H620v160ZM180-180h160v-160H180v160Zm440 0h160v-160H620v160Z\"/>\n",
              "  </svg>\n",
              "    </button>\n",
              "\n",
              "  <style>\n",
              "    .colab-df-container {\n",
              "      display:flex;\n",
              "      gap: 12px;\n",
              "    }\n",
              "\n",
              "    .colab-df-convert {\n",
              "      background-color: #E8F0FE;\n",
              "      border: none;\n",
              "      border-radius: 50%;\n",
              "      cursor: pointer;\n",
              "      display: none;\n",
              "      fill: #1967D2;\n",
              "      height: 32px;\n",
              "      padding: 0 0 0 0;\n",
              "      width: 32px;\n",
              "    }\n",
              "\n",
              "    .colab-df-convert:hover {\n",
              "      background-color: #E2EBFA;\n",
              "      box-shadow: 0px 1px 2px rgba(60, 64, 67, 0.3), 0px 1px 3px 1px rgba(60, 64, 67, 0.15);\n",
              "      fill: #174EA6;\n",
              "    }\n",
              "\n",
              "    .colab-df-buttons div {\n",
              "      margin-bottom: 4px;\n",
              "    }\n",
              "\n",
              "    [theme=dark] .colab-df-convert {\n",
              "      background-color: #3B4455;\n",
              "      fill: #D2E3FC;\n",
              "    }\n",
              "\n",
              "    [theme=dark] .colab-df-convert:hover {\n",
              "      background-color: #434B5C;\n",
              "      box-shadow: 0px 1px 3px 1px rgba(0, 0, 0, 0.15);\n",
              "      filter: drop-shadow(0px 1px 2px rgba(0, 0, 0, 0.3));\n",
              "      fill: #FFFFFF;\n",
              "    }\n",
              "  </style>\n",
              "\n",
              "    <script>\n",
              "      const buttonEl =\n",
              "        document.querySelector('#df-028f9b2e-b8d8-4d92-9a36-e75b155f5d52 button.colab-df-convert');\n",
              "      buttonEl.style.display =\n",
              "        google.colab.kernel.accessAllowed ? 'block' : 'none';\n",
              "\n",
              "      async function convertToInteractive(key) {\n",
              "        const element = document.querySelector('#df-028f9b2e-b8d8-4d92-9a36-e75b155f5d52');\n",
              "        const dataTable =\n",
              "          await google.colab.kernel.invokeFunction('convertToInteractive',\n",
              "                                                    [key], {});\n",
              "        if (!dataTable) return;\n",
              "\n",
              "        const docLinkHtml = 'Like what you see? Visit the ' +\n",
              "          '<a target=\"_blank\" href=https://colab.research.google.com/notebooks/data_table.ipynb>data table notebook</a>'\n",
              "          + ' to learn more about interactive tables.';\n",
              "        element.innerHTML = '';\n",
              "        dataTable['output_type'] = 'display_data';\n",
              "        await google.colab.output.renderOutput(dataTable, element);\n",
              "        const docLink = document.createElement('div');\n",
              "        docLink.innerHTML = docLinkHtml;\n",
              "        element.appendChild(docLink);\n",
              "      }\n",
              "    </script>\n",
              "  </div>\n",
              "\n",
              "\n",
              "<div id=\"df-11c851d5-68ec-4e1d-973c-9d99ae7e70cb\">\n",
              "  <button class=\"colab-df-quickchart\" onclick=\"quickchart('df-11c851d5-68ec-4e1d-973c-9d99ae7e70cb')\"\n",
              "            title=\"Suggest charts\"\n",
              "            style=\"display:none;\">\n",
              "\n",
              "<svg xmlns=\"http://www.w3.org/2000/svg\" height=\"24px\"viewBox=\"0 0 24 24\"\n",
              "     width=\"24px\">\n",
              "    <g>\n",
              "        <path d=\"M19 3H5c-1.1 0-2 .9-2 2v14c0 1.1.9 2 2 2h14c1.1 0 2-.9 2-2V5c0-1.1-.9-2-2-2zM9 17H7v-7h2v7zm4 0h-2V7h2v10zm4 0h-2v-4h2v4z\"/>\n",
              "    </g>\n",
              "</svg>\n",
              "  </button>\n",
              "\n",
              "<style>\n",
              "  .colab-df-quickchart {\n",
              "      --bg-color: #E8F0FE;\n",
              "      --fill-color: #1967D2;\n",
              "      --hover-bg-color: #E2EBFA;\n",
              "      --hover-fill-color: #174EA6;\n",
              "      --disabled-fill-color: #AAA;\n",
              "      --disabled-bg-color: #DDD;\n",
              "  }\n",
              "\n",
              "  [theme=dark] .colab-df-quickchart {\n",
              "      --bg-color: #3B4455;\n",
              "      --fill-color: #D2E3FC;\n",
              "      --hover-bg-color: #434B5C;\n",
              "      --hover-fill-color: #FFFFFF;\n",
              "      --disabled-bg-color: #3B4455;\n",
              "      --disabled-fill-color: #666;\n",
              "  }\n",
              "\n",
              "  .colab-df-quickchart {\n",
              "    background-color: var(--bg-color);\n",
              "    border: none;\n",
              "    border-radius: 50%;\n",
              "    cursor: pointer;\n",
              "    display: none;\n",
              "    fill: var(--fill-color);\n",
              "    height: 32px;\n",
              "    padding: 0;\n",
              "    width: 32px;\n",
              "  }\n",
              "\n",
              "  .colab-df-quickchart:hover {\n",
              "    background-color: var(--hover-bg-color);\n",
              "    box-shadow: 0 1px 2px rgba(60, 64, 67, 0.3), 0 1px 3px 1px rgba(60, 64, 67, 0.15);\n",
              "    fill: var(--button-hover-fill-color);\n",
              "  }\n",
              "\n",
              "  .colab-df-quickchart-complete:disabled,\n",
              "  .colab-df-quickchart-complete:disabled:hover {\n",
              "    background-color: var(--disabled-bg-color);\n",
              "    fill: var(--disabled-fill-color);\n",
              "    box-shadow: none;\n",
              "  }\n",
              "\n",
              "  .colab-df-spinner {\n",
              "    border: 2px solid var(--fill-color);\n",
              "    border-color: transparent;\n",
              "    border-bottom-color: var(--fill-color);\n",
              "    animation:\n",
              "      spin 1s steps(1) infinite;\n",
              "  }\n",
              "\n",
              "  @keyframes spin {\n",
              "    0% {\n",
              "      border-color: transparent;\n",
              "      border-bottom-color: var(--fill-color);\n",
              "      border-left-color: var(--fill-color);\n",
              "    }\n",
              "    20% {\n",
              "      border-color: transparent;\n",
              "      border-left-color: var(--fill-color);\n",
              "      border-top-color: var(--fill-color);\n",
              "    }\n",
              "    30% {\n",
              "      border-color: transparent;\n",
              "      border-left-color: var(--fill-color);\n",
              "      border-top-color: var(--fill-color);\n",
              "      border-right-color: var(--fill-color);\n",
              "    }\n",
              "    40% {\n",
              "      border-color: transparent;\n",
              "      border-right-color: var(--fill-color);\n",
              "      border-top-color: var(--fill-color);\n",
              "    }\n",
              "    60% {\n",
              "      border-color: transparent;\n",
              "      border-right-color: var(--fill-color);\n",
              "    }\n",
              "    80% {\n",
              "      border-color: transparent;\n",
              "      border-right-color: var(--fill-color);\n",
              "      border-bottom-color: var(--fill-color);\n",
              "    }\n",
              "    90% {\n",
              "      border-color: transparent;\n",
              "      border-bottom-color: var(--fill-color);\n",
              "    }\n",
              "  }\n",
              "</style>\n",
              "\n",
              "  <script>\n",
              "    async function quickchart(key) {\n",
              "      const quickchartButtonEl =\n",
              "        document.querySelector('#' + key + ' button');\n",
              "      quickchartButtonEl.disabled = true;  // To prevent multiple clicks.\n",
              "      quickchartButtonEl.classList.add('colab-df-spinner');\n",
              "      try {\n",
              "        const charts = await google.colab.kernel.invokeFunction(\n",
              "            'suggestCharts', [key], {});\n",
              "      } catch (error) {\n",
              "        console.error('Error during call to suggestCharts:', error);\n",
              "      }\n",
              "      quickchartButtonEl.classList.remove('colab-df-spinner');\n",
              "      quickchartButtonEl.classList.add('colab-df-quickchart-complete');\n",
              "    }\n",
              "    (() => {\n",
              "      let quickchartButtonEl =\n",
              "        document.querySelector('#df-11c851d5-68ec-4e1d-973c-9d99ae7e70cb button');\n",
              "      quickchartButtonEl.style.display =\n",
              "        google.colab.kernel.accessAllowed ? 'block' : 'none';\n",
              "    })();\n",
              "  </script>\n",
              "</div>\n",
              "\n",
              "    </div>\n",
              "  </div>\n"
            ],
            "application/vnd.google.colaboratory.intrinsic+json": {
              "type": "dataframe",
              "variable_name": "drug",
              "summary": "{\n  \"name\": \"drug\",\n  \"rows\": 50,\n  \"fields\": [\n    {\n      \"column\": \"drug_serial_number\",\n      \"properties\": {\n        \"dtype\": \"number\",\n        \"std\": 245,\n        \"min\": 116,\n        \"max\": 993,\n        \"num_unique_values\": 48,\n        \"samples\": [\n          910,\n          449,\n          681\n        ],\n        \"semantic_type\": \"\",\n        \"description\": \"\"\n      }\n    },\n    {\n      \"column\": \"time_of_effect\",\n      \"properties\": {\n        \"dtype\": \"number\",\n        \"std\": 4.7455280775371955,\n        \"min\": 5.0,\n        \"max\": 23.8,\n        \"num_unique_values\": 45,\n        \"samples\": [\n          11.3,\n          5.2,\n          9.5\n        ],\n        \"semantic_type\": \"\",\n        \"description\": \"\"\n      }\n    }\n  ]\n}"
            }
          },
          "metadata": {},
          "execution_count": 24
        }
      ]
    },
    {
      "cell_type": "markdown",
      "source": [
        "###Overview of the dataset"
      ],
      "metadata": {
        "id": "7bFyGIjZgveD"
      }
    },
    {
      "cell_type": "code",
      "source": [
        "drug.info()"
      ],
      "metadata": {
        "colab": {
          "base_uri": "https://localhost:8080/"
        },
        "id": "ZqYeCvFLgyxh",
        "outputId": "eb9f070b-1731-4818-cf11-cce58dd9f7a7"
      },
      "execution_count": null,
      "outputs": [
        {
          "output_type": "stream",
          "name": "stdout",
          "text": [
            "<class 'pandas.core.frame.DataFrame'>\n",
            "RangeIndex: 50 entries, 0 to 49\n",
            "Data columns (total 2 columns):\n",
            " #   Column              Non-Null Count  Dtype  \n",
            "---  ------              --------------  -----  \n",
            " 0   drug_serial_number  50 non-null     int64  \n",
            " 1   time_of_effect      50 non-null     float64\n",
            "dtypes: float64(1), int64(1)\n",
            "memory usage: 928.0 bytes\n"
          ]
        }
      ]
    },
    {
      "cell_type": "markdown",
      "source": [
        "There are no null values in the dataset"
      ],
      "metadata": {
        "id": "qQ8PDJrng7NT"
      }
    },
    {
      "cell_type": "markdown",
      "source": [
        "###Mean and standard deviation of the time of effect for the sample doses"
      ],
      "metadata": {
        "id": "wC2SnHE5hDb3"
      }
    },
    {
      "cell_type": "code",
      "source": [
        "from scipy.stats import norm\n",
        "\n",
        "# estimating the mean and standard deviation of the time of effect for the doses\n",
        "mu = drug['time_of_effect'].mean()\n",
        "sigma = drug['time_of_effect'].std()\n",
        "print('The estimated mean is', round(mu,2))\n",
        "print('The estimated standard deviation is', round(sigma,2))"
      ],
      "metadata": {
        "colab": {
          "base_uri": "https://localhost:8080/"
        },
        "id": "0eotPT1ng2u9",
        "outputId": "755302dc-58dc-4806-80e1-023e6009d300"
      },
      "execution_count": null,
      "outputs": [
        {
          "output_type": "stream",
          "name": "stdout",
          "text": [
            "The estimated mean is 13.44\n",
            "The estimated standard deviation is 4.75\n"
          ]
        }
      ]
    },
    {
      "cell_type": "code",
      "source": [
        "# distribution plot of time of effect\n",
        "sns.displot(drug['time_of_effect'],kind=\"kde\")\n",
        "plt.show()"
      ],
      "metadata": {
        "colab": {
          "base_uri": "https://localhost:8080/",
          "height": 506
        },
        "id": "tFWQH05thoSI",
        "outputId": "e1631b43-fb81-4c59-a9d9-c1f7d320d3a9"
      },
      "execution_count": null,
      "outputs": [
        {
          "output_type": "display_data",
          "data": {
            "text/plain": [
              "<Figure size 500x500 with 1 Axes>"
            ],
            "image/png": "[encoded data removed]"
          },
          "metadata": {}
        }
      ]
    },
    {
      "cell_type": "markdown",
      "source": [
        "* The shape of the distribution is not perfectly normal because we just have 50 observations in the sample. But, we can assume this data distribution to be normal and perform our calculations based on the normality assumption."
      ],
      "metadata": {
        "id": "Qmy-_-Xwhh3d"
      }
    },
    {
      "cell_type": "markdown",
      "source": [
        "### **A) Find the probability that the time of effect of a dose is less than 11.5 hours**"
      ],
      "metadata": {
        "id": "US5lP7M7iLhb"
      }
    },
    {
      "cell_type": "markdown",
      "source": [
        "\n"
      ],
      "metadata": {
        "id": "a43NJGTyiQga"
      }
    },
    {
      "cell_type": "code",
      "source": [
        "#Suppose 𝑋 is the random variable that denotes the time of effect of a dose. calculating 𝑃(𝑋<11.5)\n",
        "# calculating the probability P(X<11.5)\n",
        "prob = norm.cdf(11.5, mu, sigma)\n",
        "print('The probability that the time of effect of a dose is less than 11.5 is', round(prob, 4))"
      ],
      "metadata": {
        "colab": {
          "base_uri": "https://localhost:8080/"
        },
        "id": "yCKv7jCdiH-v",
        "outputId": "009350bc-710d-462d-d57b-c0f15bd20b5f"
      },
      "execution_count": null,
      "outputs": [
        {
          "output_type": "stream",
          "name": "stdout",
          "text": [
            "The probability that the time of effect of a dose is less than 11.5 is 0.3412\n"
          ]
        }
      ]
    },
    {
      "cell_type": "markdown",
      "source": [
        "* There is 34.12% chance that the time of effect of a randomly selected dose is less than 11.5 hours"
      ],
      "metadata": {
        "id": "D6loeCt7ip5j"
      }
    },
    {
      "cell_type": "markdown",
      "source": [
        "### **B) Find the probability that the time of effect of a dose is more than 10 hours.**\n"
      ],
      "metadata": {
        "id": "tF-jJ2_Kivyt"
      }
    },
    {
      "cell_type": "code",
      "source": [
        "#Suppose 𝑋 is the random variable that denotes the time of effect of a dose. We are to calculate 𝑃(𝑋>10)\n",
        "# calculate the probability P(X>10)\n",
        "prob_lessthan10 = norm.cdf(10., mu, sigma)\n",
        "\n",
        "prob_morethan10 = 1 - prob_lessthan10\n",
        "print('The probability that the time of effect of a dose is more than 10 is', round(prob_morethan10, 4))"
      ],
      "metadata": {
        "colab": {
          "base_uri": "https://localhost:8080/"
        },
        "id": "des89j7wiqVY",
        "outputId": "d1f8c3e0-614b-41ab-b87a-88006dc8a701"
      },
      "execution_count": null,
      "outputs": [
        {
          "output_type": "stream",
          "name": "stdout",
          "text": [
            "The probability that the time of effect of a dose is more than 10 is 0.7659\n"
          ]
        }
      ]
    },
    {
      "cell_type": "markdown",
      "source": [
        "* There is 76.59% chance that the time of effect of a randomly selected dose is more than 10 hours."
      ],
      "metadata": {
        "id": "SfZVB6uRkJHj"
      }
    },
    {
      "cell_type": "markdown",
      "source": [
        "### **C) Calculate the 90th percentile of time of effect for the doses**"
      ],
      "metadata": {
        "id": "_6V9dxlJkQgV"
      }
    },
    {
      "cell_type": "code",
      "source": [
        "perc_90th = norm.ppf(0.90, mu, sigma)\n",
        "print('The 90th percentile of the time of effect for doses is', round(perc_90th, 2),'hours')"
      ],
      "metadata": {
        "colab": {
          "base_uri": "https://localhost:8080/"
        },
        "id": "ocxqEAtQkJjA",
        "outputId": "d6decac8-6063-4716-f368-290e6291ff77"
      },
      "execution_count": null,
      "outputs": [
        {
          "output_type": "stream",
          "name": "stdout",
          "text": [
            "The 90th percentile of the time of effect for doses is 19.52 hours\n"
          ]
        }
      ]
    },
    {
      "cell_type": "markdown",
      "source": [
        "## **Conclusions**"
      ],
      "metadata": {
        "id": "4LhETlJZklyT"
      }
    },
    {
      "cell_type": "markdown",
      "source": [
        "* The distribution plot suggests the following:\n",
        "  * On an average, 3 out of 10 doses will do an unsatisfactory job\n",
        "  * Out of 10 doses, the mass probability that exactly 3 doses will not do a satisfactory job is comparatively higher than all the other mass probabilities\n",
        "  * This shows that if we randomly select 10 doses, there are higher chances of exactly 3 doses not doing a satisfactory job than any other specific number of doses"
      ],
      "metadata": {
        "id": "CQwecGs3knY4"
      }
    },
    {
      "cell_type": "markdown",
      "source": [
        "* Based on the testing done by the QA team, the following points were noticed:\n",
        "  * The probability that exactly 3 doses out of 10 will not do a satisfactory job is 26.14%\n",
        "  * There is a 56.84% chance that at most 3 doses out of 10 will not do a satisfactory job\n",
        "  *  The probability that more than 8 doses out of 10 will do a satisfactory job is 10.80%."
      ],
      "metadata": {
        "id": "iQACgGNEk6-J"
      }
    },
    {
      "cell_type": "markdown",
      "source": [
        "* Based on the testing done by the QA team before sending the requested number of doses to the New York City administration, the following points were noticed:\n",
        "  * There is a 3.5 % chance that at least 11 out of 20 doses will not do a satisfactory job\n",
        "    * This suggests that it is very unlikely that more than 50% of the doses will be unsatisfactory\n",
        "  * There is a 30.82 % chance that at most 5 out of 20 doses will not do a satisfactory job\n",
        "  * There is a 67.32 % chance that at least 13 out of 20 doses will do a satisfactory job"
      ],
      "metadata": {
        "id": "51I2BOkHlJ3I"
      }
    },
    {
      "cell_type": "markdown",
      "source": [
        "* Based on the testing done by the QA team to analyze the time of effect for doses, the following points were noticed:\n",
        "  * There is 34.12% chance that the time of effect of a randomly selected dose is less than 11.5 hours\n",
        "  * There is 76.59% chance that the time of effect of a randomly selected dose is more than 10 hours.\n",
        "  * There is a 90% chance that the time of effect for a randomly selected dose is less than 19.52 hours"
      ],
      "metadata": {
        "id": "s1HjYMnFlRrI"
      }
    },
    {
      "cell_type": "code",
      "source": [],
      "metadata": {
        "id": "TVkv0jdSkN_X"
      },
      "execution_count": null,
      "outputs": []
    }
  ]
}